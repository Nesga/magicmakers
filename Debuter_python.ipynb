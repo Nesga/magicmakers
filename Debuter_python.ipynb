{
 "cells": [
  {
   "cell_type": "markdown",
   "metadata": {},
   "source": [
    "# Initiation au python\n",
    "\n",
    "## Les types \n",
    "\n",
    "1. Le texte pour afficher du texte on va utiliser le type string : cela permet de définir des chaines de caractères, c'est dernières sont TOUJOURS mises entre guillement\n",
    "\n",
    "Essaye d'afficher du texte \n",
    "\n"
   ]
  },
  {
   "cell_type": "code",
   "execution_count": null,
   "metadata": {},
   "outputs": [],
   "source": []
  },
  {
   "cell_type": "markdown",
   "metadata": {},
   "source": [
    "2. Un nombre entier (c'est à dire sans virgule) a pour type integer\n",
    "\n",
    "Esaaye d'afficher un entier"
   ]
  },
  {
   "cell_type": "code",
   "execution_count": 3,
   "metadata": {},
   "outputs": [
    {
     "data": {
      "text/plain": [
       "1"
      ]
     },
     "execution_count": 3,
     "metadata": {},
     "output_type": "execute_result"
    }
   ],
   "source": [
    "1"
   ]
  },
  {
   "cell_type": "markdown",
   "metadata": {},
   "source": [
    "3. Un nombre avec une virgule va être un flotant (float)\n",
    "\n",
    "Afficher un entier "
   ]
  },
  {
   "cell_type": "code",
   "execution_count": null,
   "metadata": {},
   "outputs": [],
   "source": []
  },
  {
   "cell_type": "markdown",
   "metadata": {},
   "source": [
    "## Les variables\n",
    "\n",
    "Très utilisées en informatique elles servent à garder en mémoire un objet. Par exemple: un entier, une chaine de caractère ou un flottant. \n",
    "Une variable est sucession de lettres avec parfois des chiffres (ex: a, a23, k3Tr).\n",
    "Pour attribuer une valeur a une variable on utilise l'opérateur d'égalité =.\n",
    "\n",
    "Stocker 3 dans a\n",
    "\n"
   ]
  },
  {
   "cell_type": "code",
   "execution_count": null,
   "metadata": {},
   "outputs": [],
   "source": []
  },
  {
   "cell_type": "markdown",
   "metadata": {},
   "source": [
    "## Print()\n",
    "Maintenant pour afficher la valeur d'une variable on utilise la fonction print().\n",
    "syntaxe: print(nom_de_ma_variable)\n",
    "\n",
    "1- Stocker Hello World dans la variable ordi \n",
    "\n",
    "2- Afficher la valeur de la variable ordi"
   ]
  },
  {
   "cell_type": "code",
   "execution_count": null,
   "metadata": {},
   "outputs": [],
   "source": []
  },
  {
   "cell_type": "markdown",
   "metadata": {},
   "source": [
    "Pour connaitre le type d'une variable une utilise l'opérateur type\n",
    "\n",
    "Afficher le type de Ordi "
   ]
  },
  {
   "cell_type": "code",
   "execution_count": null,
   "metadata": {},
   "outputs": [],
   "source": []
  },
  {
   "cell_type": "markdown",
   "metadata": {},
   "source": [
    "## Input()\n",
    "\n",
    "A contrario du Print(), la fonction input permet demander quelque chose syntaxe : input(\"message\")\n",
    "\n",
    "1- Demander l'age de la personne\n",
    "\n",
    "2 - Afficher l'âge\n"
   ]
  },
  {
   "cell_type": "code",
   "execution_count": null,
   "metadata": {},
   "outputs": [],
   "source": []
  },
  {
   "cell_type": "markdown",
   "metadata": {},
   "source": [
    "## les conditions\n",
    "\n",
    "Les conditions permettent de comparer deux informations \n",
    "\n",
    "Remplir les commentaires (messages précéder des # ) de sorte que \n",
    "\n",
    "si l'age > 18 \n",
    "\n",
    "    alors afficher majeur \n",
    "    \n",
    "sinon\n",
    "\n",
    "    afficher mineur\n"
   ]
  },
  {
   "cell_type": "code",
   "execution_count": null,
   "metadata": {},
   "outputs": [],
   "source": [
    "if (#condition):\n",
    "    #écrire l'action\n",
    "    \n",
    "else:\n",
    "    #écrire l'action"
   ]
  },
  {
   "cell_type": "markdown",
   "metadata": {},
   "source": [
    "## Les bibliothéques \n",
    "\n",
    "Pour utiliser d'autres fonctions de python il existe des bibliothèques.\n",
    "\n",
    "### La Bibliothèque random\n",
    "\n",
    "Pour avoir un nombre aléatoire il existe une bibliothéque random qui permet de récupérer un nombre aléatoire entre 2 valeurs.\n",
    "\n",
    "Pour etre utiliser il faut d'abord importer la bibliothéque ici: import random\n",
    "\n",
    "Puis on peut utiliser les différentes fonctions de la bibliothèque \n",
    "\n",
    "ici : random.randint(a,b)\n",
    "\n",
    "a = la plus petite valeur\n",
    "\n",
    "b = la plus grande valeur\n",
    "\n",
    "\n",
    "Afficher un nombre aléatoire entre -12, 54"
   ]
  },
  {
   "cell_type": "code",
   "execution_count": null,
   "metadata": {},
   "outputs": [],
   "source": []
  },
  {
   "cell_type": "markdown",
   "metadata": {},
   "source": [
    "# Le jeu du plus et du moins\n",
    "Le jeu du plus et du moins consiste à deviner la valeur que l'ordinateur aura choisi\n",
    "\n",
    "1- Faire choisir un nombre aléatoire à l'ordinateur là stocker dans la variable aleatoire\n",
    "\n",
    "2- Demander quelle valeur est-ce ? stocker cette valeur dans nombre \n",
    "\n",
    "3- afficher Si c'est la bonne valeur si c'est plus grand ou si c'est plus petit "
   ]
  },
  {
   "cell_type": "code",
   "execution_count": null,
   "metadata": {},
   "outputs": [],
   "source": []
  },
  {
   "cell_type": "markdown",
   "metadata": {},
   "source": [
    "On se rend compte que cela ne marche qu'une seule fois et qu'à la fin on ne sait quelle est la valeur choisit par l'ordinateur.\n",
    "## La boucle while\n",
    "\n",
    "La boucle while permet de répeter une action tant qu'une condition n'est pas réalisée\n",
    "Ici on va pouvoir demander une valeur jusqu'à ce qu'on trouve qu'elle est la valeur choisie.\n",
    "\n"
   ]
  },
  {
   "cell_type": "code",
   "execution_count": 11,
   "metadata": {},
   "outputs": [
    {
     "ename": "SyntaxError",
     "evalue": "unexpected EOF while parsing (<ipython-input-11-90d17ea4cf20>, line 15)",
     "output_type": "error",
     "traceback": [
      "\u001b[1;36m  File \u001b[1;32m\"<ipython-input-11-90d17ea4cf20>\"\u001b[1;36m, line \u001b[1;32m15\u001b[0m\n\u001b[1;33m    \u001b[0m\n\u001b[1;37m    ^\u001b[0m\n\u001b[1;31mSyntaxError\u001b[0m\u001b[1;31m:\u001b[0m unexpected EOF while parsing\n"
     ]
    }
   ],
   "source": [
    "# l'ordi choisit un nombre et le stocker dans aleatoire\n",
    "#demander nombre aléatoire et stocker dans nombre\n",
    "while (nombre != aleatoire): # != différent\n",
    "    #\n",
    "    #comparer si c'est plus grand\n",
    "    #  afficher c'est plus grand \n",
    "    #\n",
    "    # si c'est plus petit \n",
    "    #    afficher c'est plus petit\n",
    "    \n",
    "    # redemander un autre nombre aléatoire\n",
    "    \n",
    "#afficher \"Bravo le nombre était bien \", aleatoire\n",
    "    "
   ]
  },
  {
   "cell_type": "markdown",
   "metadata": {},
   "source": [
    "## Jeu pierre feuille ciseaux\n",
    "\n",
    "Coder le jeu pierre feuille ciseaux\n",
    "il faut que l'ordinateur choisse entre pierre feuille ciseaux.\n",
    "Pour cela on utilise la ligne: ordi = random.choice(['pierre', 'feuille', 'ciseaux'])\n",
    "\n"
   ]
  },
  {
   "cell_type": "code",
   "execution_count": 14,
   "metadata": {},
   "outputs": [
    {
     "name": "stdout",
     "output_type": "stream",
     "text": [
      "feuille\n"
     ]
    }
   ],
   "source": [
    "ordi = random.choice(['pierre', 'feuille', 'ciseaux'])\n",
    "print(ordi)"
   ]
  },
  {
   "cell_type": "markdown",
   "metadata": {},
   "source": [
    "Lignes directrices:\n",
    "\n",
    "1- Deamnder pierre feuille ou ciseaux (p,f,c)\n",
    "\n",
    "2 -comparer et afficher si c'est gagné, perdu ou égalité\n"
   ]
  },
  {
   "cell_type": "code",
   "execution_count": null,
   "metadata": {},
   "outputs": [],
   "source": []
  },
  {
   "cell_type": "markdown",
   "metadata": {},
   "source": [
    "#### Bonus faire le jeu mais il faut gagner en 3 manches\n",
    "Indice créeer des variables scores (ordi, humain) qui évoluent pendant toute la partie"
   ]
  },
  {
   "cell_type": "code",
   "execution_count": null,
   "metadata": {},
   "outputs": [],
   "source": []
  }
 ],
 "metadata": {
  "kernelspec": {
   "display_name": "Python 3",
   "language": "python",
   "name": "python3"
  },
  "language_info": {
   "codemirror_mode": {
    "name": "ipython",
    "version": 3
   },
   "file_extension": ".py",
   "mimetype": "text/x-python",
   "name": "python",
   "nbconvert_exporter": "python",
   "pygments_lexer": "ipython3",
   "version": "3.8.5"
  }
 },
 "nbformat": 4,
 "nbformat_minor": 4
}
